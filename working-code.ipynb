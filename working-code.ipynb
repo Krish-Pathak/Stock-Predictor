{
 "cells": [
  {
   "cell_type": "markdown",
   "metadata": {
    "tags": []
   },
   "source": [
    "### Stock Market Prediction And Forecasting Using Stacked LSTM"
   ]
  },
  {
   "cell_type": "code",
   "execution_count": 170,
   "metadata": {},
   "outputs": [],
   "source": [
    "### Keras and Tensorflow >2.0"
   ]
  },
  {
   "cell_type": "code",
   "execution_count": 267,
   "metadata": {},
   "outputs": [],
   "source": [
    "### Data Collection\n",
    "import pandas_datareader as pdr\n",
    "#api_key=\"bedfdf679238524b4fdd2779f5fe8ca942202df7\""
   ]
  },
  {
   "cell_type": "code",
   "execution_count": 268,
   "metadata": {},
   "outputs": [
    {
     "name": "stderr",
     "output_type": "stream",
     "text": [
      "C:\\Users\\Krish\\AppData\\Local\\Programs\\Python\\Python39\\lib\\site-packages\\pandas_datareader\\tiingo.py:234: FutureWarning: In a future version of pandas all arguments of concat except for the argument 'objs' will be keyword-only\n",
      "  return pd.concat(dfs, self._concat_axis)\n"
     ]
    }
   ],
   "source": [
    "df = pdr.get_data_tiingo('TSLA', api_key = \"bedfdf679238524b4fdd2779f5fe8ca942202df7\")"
   ]
  },
  {
   "cell_type": "code",
   "execution_count": 269,
   "metadata": {
    "tags": []
   },
   "outputs": [],
   "source": [
    "df. to_csv('TSLA.csv')"
   ]
  },
  {
   "cell_type": "code",
   "execution_count": 271,
   "metadata": {
    "tags": []
   },
   "outputs": [
    {
     "data": {
      "text/plain": [
       "<bound method NDFrame.head of                                     close       high        low     open  \\\n",
       "symbol date                                                                \n",
       "TSLA   2016-12-16 00:00:00+00:00   202.49   202.5900   197.6000   198.08   \n",
       "       2016-12-19 00:00:00+00:00   202.73   204.4500   199.8400   202.49   \n",
       "       2016-12-20 00:00:00+00:00   208.79   209.0000   202.5000   203.05   \n",
       "       2016-12-21 00:00:00+00:00   207.70   212.2300   207.4100   208.45   \n",
       "       2016-12-22 00:00:00+00:00   208.45   209.9900   206.5000   208.22   \n",
       "...                                   ...        ...        ...      ...   \n",
       "       2021-12-08 00:00:00+00:00  1068.96  1072.3800  1033.0001  1052.71   \n",
       "       2021-12-09 00:00:00+00:00  1003.80  1062.4900  1002.3600  1060.64   \n",
       "       2021-12-10 00:00:00+00:00  1017.03  1020.9797   982.5300  1008.75   \n",
       "       2021-12-13 00:00:00+00:00   966.41  1005.0000   951.4200  1001.09   \n",
       "       2021-12-14 00:00:00+00:00   958.51   966.4100   930.0000   945.00   \n",
       "\n",
       "                                    volume  adjClose    adjHigh     adjLow  \\\n",
       "symbol date                                                                  \n",
       "TSLA   2016-12-16 00:00:00+00:00   3796889    40.498    40.5180    39.5200   \n",
       "       2016-12-19 00:00:00+00:00   3488071    40.546    40.8900    39.9680   \n",
       "       2016-12-20 00:00:00+00:00   4689071    41.758    41.8000    40.5000   \n",
       "       2016-12-21 00:00:00+00:00   5207622    41.540    42.4460    41.4820   \n",
       "       2016-12-22 00:00:00+00:00   3111108    41.690    41.9980    41.3000   \n",
       "...                                    ...       ...        ...        ...   \n",
       "       2021-12-08 00:00:00+00:00  13968790  1068.960  1072.3800  1033.0001   \n",
       "       2021-12-09 00:00:00+00:00  19812832  1003.800  1062.4900  1002.3600   \n",
       "       2021-12-10 00:00:00+00:00  19888122  1017.030  1020.9797   982.5300   \n",
       "       2021-12-13 00:00:00+00:00  26198502   966.410  1005.0000   951.4200   \n",
       "       2021-12-14 00:00:00+00:00  23602090   958.510   966.4100   930.0000   \n",
       "\n",
       "                                   adjOpen  adjVolume  divCash  splitFactor  \n",
       "symbol date                                                                  \n",
       "TSLA   2016-12-16 00:00:00+00:00    39.616   18984445      0.0          1.0  \n",
       "       2016-12-19 00:00:00+00:00    40.498   17440355      0.0          1.0  \n",
       "       2016-12-20 00:00:00+00:00    40.610   23445355      0.0          1.0  \n",
       "       2016-12-21 00:00:00+00:00    41.690   26038110      0.0          1.0  \n",
       "       2016-12-22 00:00:00+00:00    41.644   15555540      0.0          1.0  \n",
       "...                                    ...        ...      ...          ...  \n",
       "       2021-12-08 00:00:00+00:00  1052.710   13968790      0.0          1.0  \n",
       "       2021-12-09 00:00:00+00:00  1060.640   19812832      0.0          1.0  \n",
       "       2021-12-10 00:00:00+00:00  1008.750   19888122      0.0          1.0  \n",
       "       2021-12-13 00:00:00+00:00  1001.090   26198502      0.0          1.0  \n",
       "       2021-12-14 00:00:00+00:00   945.000   23602090      0.0          1.0  \n",
       "\n",
       "[1257 rows x 12 columns]>"
      ]
     },
     "execution_count": 271,
     "metadata": {},
     "output_type": "execute_result"
    }
   ],
   "source": [
    "df.head"
   ]
  },
  {
   "cell_type": "code",
   "execution_count": 272,
   "metadata": {},
   "outputs": [],
   "source": [
    "import pandas as pd"
   ]
  },
  {
   "cell_type": "code",
   "execution_count": 273,
   "metadata": {},
   "outputs": [],
   "source": [
    "df=pd.read_csv('TSLA.csv')"
   ]
  },
  {
   "cell_type": "code",
   "execution_count": null,
   "metadata": {},
   "outputs": [],
   "source": []
  },
  {
   "cell_type": "code",
   "execution_count": 274,
   "metadata": {},
   "outputs": [],
   "source": [
    "df1=df.reset_index()['close']"
   ]
  },
  {
   "cell_type": "code",
   "execution_count": 275,
   "metadata": {},
   "outputs": [
    {
     "data": {
      "text/plain": [
       "0        202.49\n",
       "1        202.73\n",
       "2        208.79\n",
       "3        207.70\n",
       "4        208.45\n",
       "         ...   \n",
       "1252    1068.96\n",
       "1253    1003.80\n",
       "1254    1017.03\n",
       "1255     966.41\n",
       "1256     958.51\n",
       "Name: close, Length: 1257, dtype: float64"
      ]
     },
     "execution_count": 275,
     "metadata": {},
     "output_type": "execute_result"
    }
   ],
   "source": [
    "df1"
   ]
  },
  {
   "cell_type": "code",
   "execution_count": 276,
   "metadata": {},
   "outputs": [
    {
     "data": {
      "text/plain": [
       "[<matplotlib.lines.Line2D at 0x28963ad4f70>]"
      ]
     },
     "execution_count": 276,
     "metadata": {},
     "output_type": "execute_result"
    },
    {
     "data": {
      "image/png": "[encoded data removed]",
      "text/plain": [
       "<Figure size 432x288 with 1 Axes>"
      ]
     },
     "metadata": {
      "needs_background": "light"
     },
     "output_type": "display_data"
    }
   ],
   "source": [
    "import matplotlib.pyplot as plt\n",
    "plt.plot(df1)"
   ]
  },
  {
   "cell_type": "code",
   "execution_count": 277,
   "metadata": {},
   "outputs": [],
   "source": [
    "### LSTM are sensitive to the scale of the data. so we apply MinMax scaler "
   ]
  },
  {
   "cell_type": "code",
   "execution_count": 278,
   "metadata": {},
   "outputs": [],
   "source": [
    "import numpy as np"
   ]
  },
  {
   "cell_type": "code",
   "execution_count": 279,
   "metadata": {},
   "outputs": [
    {
     "data": {
      "text/plain": [
       "0        202.49\n",
       "1        202.73\n",
       "2        208.79\n",
       "3        207.70\n",
       "4        208.45\n",
       "         ...   \n",
       "1252    1068.96\n",
       "1253    1003.80\n",
       "1254    1017.03\n",
       "1255     966.41\n",
       "1256     958.51\n",
       "Name: close, Length: 1257, dtype: float64"
      ]
     },
     "execution_count": 279,
     "metadata": {},
     "output_type": "execute_result"
    }
   ],
   "source": [
    "df1"
   ]
  },
  {
   "cell_type": "code",
   "execution_count": 280,
   "metadata": {},
   "outputs": [],
   "source": [
    "from sklearn.preprocessing import MinMaxScaler\n",
    "scaler=MinMaxScaler(feature_range=(0,1))\n",
    "df1=scaler.fit_transform(np.array(df1).reshape(-1,1))"
   ]
  },
  {
   "cell_type": "code",
   "execution_count": 281,
   "metadata": {},
   "outputs": [
    {
     "name": "stdout",
     "output_type": "stream",
     "text": [
      "[[0.0114187 ]\n",
      " [0.01153521]\n",
      " [0.01447727]\n",
      " ...\n",
      " [0.40686869]\n",
      " [0.38229325]\n",
      " [0.37845789]]\n"
     ]
    }
   ],
   "source": [
    "print(df1)"
   ]
  },
  {
   "cell_type": "code",
   "execution_count": 282,
   "metadata": {},
   "outputs": [],
   "source": [
    "##splitting dataset into train and test split\n",
    "training_size=int(len(df1)*0.65)\n",
    "test_size=len(df1)-training_size\n",
    "train_data,test_data=df1[0:training_size,:],df1[training_size:len(df1),:1]"
   ]
  },
  {
   "cell_type": "code",
   "execution_count": 283,
   "metadata": {},
   "outputs": [
    {
     "data": {
      "text/plain": [
       "(817, 440)"
      ]
     },
     "execution_count": 283,
     "metadata": {},
     "output_type": "execute_result"
    }
   ],
   "source": [
    "training_size,test_size"
   ]
  },
  {
   "cell_type": "code",
   "execution_count": 284,
   "metadata": {},
   "outputs": [],
   "source": [
    "#train_data"
   ]
  },
  {
   "cell_type": "code",
   "execution_count": 285,
   "metadata": {},
   "outputs": [],
   "source": [
    "import numpy\n",
    "# convert an array of values into a dataset matrix\n",
    "def create_dataset(dataset, time_step=1):\n",
    "\tdataX, dataY = [], []\n",
    "\tfor i in range(len(dataset)-time_step-1):\n",
    "\t\ta = dataset[i:(i+time_step), 0]   ###i=0, 0,1,2,3-----99   100 \n",
    "\t\tdataX.append(a)\n",
    "\t\tdataY.append(dataset[i + time_step, 0])\n",
    "\treturn numpy.array(dataX), numpy.array(dataY)"
   ]
  },
  {
   "cell_type": "code",
   "execution_count": 226,
   "metadata": {},
   "outputs": [],
   "source": [
    "# reshape into X=t,t+1,t+2,t+3 and Y=t+4\n",
    "time_step = 100\n",
    "X_train, y_train = create_dataset(train_data, time_step)\n",
    "X_test, ytest = create_dataset(test_data, time_step)"
   ]
  },
  {
   "cell_type": "code",
   "execution_count": 228,
   "metadata": {},
   "outputs": [
    {
     "name": "stdout",
     "output_type": "stream",
     "text": [
      "(716, 100)\n",
      "(716,)\n"
     ]
    },
    {
     "data": {
      "text/plain": [
       "(None, None)"
      ]
     },
     "execution_count": 228,
     "metadata": {},
     "output_type": "execute_result"
    }
   ],
   "source": [
    "print(X_train.shape), print(y_train.shape)"
   ]
  },
  {
   "cell_type": "code",
   "execution_count": 230,
   "metadata": {},
   "outputs": [
    {
     "name": "stdout",
     "output_type": "stream",
     "text": [
      "(339, 100)\n",
      "(339,)\n"
     ]
    },
    {
     "data": {
      "text/plain": [
       "(None, None)"
      ]
     },
     "execution_count": 230,
     "metadata": {},
     "output_type": "execute_result"
    }
   ],
   "source": [
    "print(X_test.shape), print(ytest.shape)"
   ]
  },
  {
   "cell_type": "code",
   "execution_count": 232,
   "metadata": {},
   "outputs": [],
   "source": [
    "# reshape input to be [samples, time steps, features] which is required for LSTM\n",
    "X_train =X_train.reshape(X_train.shape[0],X_train.shape[1] , 1)\n",
    "X_test = X_test.reshape(X_test.shape[0],X_test.shape[1] , 1)"
   ]
  },
  {
   "cell_type": "code",
   "execution_count": 234,
   "metadata": {},
   "outputs": [],
   "source": [
    "### Create the Stacked LSTM model\n",
    "from tensorflow.keras.models import Sequential\n",
    "from tensorflow.keras.layers import Dense\n",
    "from tensorflow.keras.layers import LSTM"
   ]
  },
  {
   "cell_type": "code",
   "execution_count": 236,
   "metadata": {},
   "outputs": [],
   "source": [
    "model=Sequential()\n",
    "model.add(LSTM(50,return_sequences=True,input_shape=(100,1)))\n",
    "model.add(LSTM(50,return_sequences=True))\n",
    "model.add(LSTM(50))\n",
    "model.add(Dense(1))\n",
    "model.compile(loss='mean_squared_error',optimizer='adam')\n"
   ]
  },
  {
   "cell_type": "code",
   "execution_count": 238,
   "metadata": {},
   "outputs": [
    {
     "name": "stdout",
     "output_type": "stream",
     "text": [
      "Model: \"sequential_4\"\n",
      "_________________________________________________________________\n",
      " Layer (type)                Output Shape              Param #   \n",
      "=================================================================\n",
      " lstm_12 (LSTM)              (None, 100, 50)           10400     \n",
      "                                                                 \n",
      " lstm_13 (LSTM)              (None, 100, 50)           20200     \n",
      "                                                                 \n",
      " lstm_14 (LSTM)              (None, 50)                20200     \n",
      "                                                                 \n",
      " dense_4 (Dense)             (None, 1)                 51        \n",
      "                                                                 \n",
      "=================================================================\n",
      "Total params: 50,851\n",
      "Trainable params: 50,851\n",
      "Non-trainable params: 0\n",
      "_________________________________________________________________\n"
     ]
    }
   ],
   "source": [
    "model.summary()"
   ]
  },
  {
   "cell_type": "code",
   "execution_count": 240,
   "metadata": {},
   "outputs": [
    {
     "name": "stdout",
     "output_type": "stream",
     "text": [
      "Model: \"sequential_4\"\n",
      "_________________________________________________________________\n",
      " Layer (type)                Output Shape              Param #   \n",
      "=================================================================\n",
      " lstm_12 (LSTM)              (None, 100, 50)           10400     \n",
      "                                                                 \n",
      " lstm_13 (LSTM)              (None, 100, 50)           20200     \n",
      "                                                                 \n",
      " lstm_14 (LSTM)              (None, 50)                20200     \n",
      "                                                                 \n",
      " dense_4 (Dense)             (None, 1)                 51        \n",
      "                                                                 \n",
      "=================================================================\n",
      "Total params: 50,851\n",
      "Trainable params: 50,851\n",
      "Non-trainable params: 0\n",
      "_________________________________________________________________\n"
     ]
    }
   ],
   "source": [
    "model.summary()"
   ]
  },
  {
   "cell_type": "code",
   "execution_count": null,
   "metadata": {},
   "outputs": [],
   "source": []
  },
  {
   "cell_type": "code",
   "execution_count": 242,
   "metadata": {},
   "outputs": [
    {
     "name": "stdout",
     "output_type": "stream",
     "text": [
      "Epoch 1/100\n",
      "12/12 [==============================] - 7s 253ms/step - loss: 0.0029 - val_loss: 0.0333\n",
      "Epoch 2/100\n",
      "12/12 [==============================] - 2s 161ms/step - loss: 0.0011 - val_loss: 0.0151\n",
      "Epoch 3/100\n",
      "12/12 [==============================] - 2s 159ms/step - loss: 7.0645e-04 - val_loss: 0.0151\n",
      "Epoch 4/100\n",
      "12/12 [==============================] - 2s 159ms/step - loss: 6.0813e-04 - val_loss: 0.0131\n",
      "Epoch 5/100\n",
      "12/12 [==============================] - 2s 163ms/step - loss: 4.8773e-04 - val_loss: 0.0125\n",
      "Epoch 6/100\n",
      "12/12 [==============================] - 2s 163ms/step - loss: 4.6555e-04 - val_loss: 0.0117\n",
      "Epoch 7/100\n",
      "12/12 [==============================] - 2s 163ms/step - loss: 4.7763e-04 - val_loss: 0.0112\n",
      "Epoch 8/100\n",
      "12/12 [==============================] - 2s 162ms/step - loss: 4.7112e-04 - val_loss: 0.0110\n",
      "Epoch 9/100\n",
      "12/12 [==============================] - 2s 163ms/step - loss: 3.4217e-04 - val_loss: 0.0105\n",
      "Epoch 10/100\n",
      "12/12 [==============================] - 2s 162ms/step - loss: 3.0887e-04 - val_loss: 0.0111\n",
      "Epoch 11/100\n",
      "12/12 [==============================] - 2s 158ms/step - loss: 2.8222e-04 - val_loss: 0.0113\n",
      "Epoch 12/100\n",
      "12/12 [==============================] - 2s 159ms/step - loss: 3.0088e-04 - val_loss: 0.0150\n",
      "Epoch 13/100\n",
      "12/12 [==============================] - 2s 162ms/step - loss: 2.5711e-04 - val_loss: 0.0132\n",
      "Epoch 14/100\n",
      "12/12 [==============================] - 2s 163ms/step - loss: 2.2658e-04 - val_loss: 0.0170\n",
      "Epoch 15/100\n",
      "12/12 [==============================] - 2s 160ms/step - loss: 2.4521e-04 - val_loss: 0.0147\n",
      "Epoch 16/100\n",
      "12/12 [==============================] - 2s 163ms/step - loss: 2.1680e-04 - val_loss: 0.0166\n",
      "Epoch 17/100\n",
      "12/12 [==============================] - 2s 162ms/step - loss: 2.0410e-04 - val_loss: 0.0151\n",
      "Epoch 18/100\n",
      "12/12 [==============================] - 2s 162ms/step - loss: 1.9976e-04 - val_loss: 0.0195\n",
      "Epoch 19/100\n",
      "12/12 [==============================] - 2s 163ms/step - loss: 1.9977e-04 - val_loss: 0.0138\n",
      "Epoch 20/100\n",
      "12/12 [==============================] - 2s 161ms/step - loss: 2.1879e-04 - val_loss: 0.0179\n",
      "Epoch 21/100\n",
      "12/12 [==============================] - 2s 159ms/step - loss: 2.1255e-04 - val_loss: 0.0150\n",
      "Epoch 22/100\n",
      "12/12 [==============================] - 2s 163ms/step - loss: 1.9160e-04 - val_loss: 0.0166\n",
      "Epoch 23/100\n",
      "12/12 [==============================] - 2s 161ms/step - loss: 1.9383e-04 - val_loss: 0.0149\n",
      "Epoch 24/100\n",
      "12/12 [==============================] - 2s 158ms/step - loss: 2.0704e-04 - val_loss: 0.0165\n",
      "Epoch 25/100\n",
      "12/12 [==============================] - 2s 156ms/step - loss: 1.9482e-04 - val_loss: 0.0156\n",
      "Epoch 26/100\n",
      "12/12 [==============================] - 2s 163ms/step - loss: 1.9850e-04 - val_loss: 0.0172\n",
      "Epoch 27/100\n",
      "12/12 [==============================] - 2s 163ms/step - loss: 1.9752e-04 - val_loss: 0.0120\n",
      "Epoch 28/100\n",
      "12/12 [==============================] - 2s 163ms/step - loss: 2.0822e-04 - val_loss: 0.0148\n",
      "Epoch 29/100\n",
      "12/12 [==============================] - 2s 164ms/step - loss: 1.8977e-04 - val_loss: 0.0166\n",
      "Epoch 30/100\n",
      "12/12 [==============================] - 2s 160ms/step - loss: 1.8979e-04 - val_loss: 0.0164\n",
      "Epoch 31/100\n",
      "12/12 [==============================] - 2s 161ms/step - loss: 1.7724e-04 - val_loss: 0.0144\n",
      "Epoch 32/100\n",
      "12/12 [==============================] - 2s 161ms/step - loss: 1.8265e-04 - val_loss: 0.0184\n",
      "Epoch 33/100\n",
      "12/12 [==============================] - 2s 169ms/step - loss: 1.9724e-04 - val_loss: 0.0121\n",
      "Epoch 34/100\n",
      "12/12 [==============================] - 2s 168ms/step - loss: 1.7833e-04 - val_loss: 0.0135\n",
      "Epoch 35/100\n",
      "12/12 [==============================] - 2s 166ms/step - loss: 2.0596e-04 - val_loss: 0.0179\n",
      "Epoch 36/100\n",
      "12/12 [==============================] - 2s 160ms/step - loss: 2.0315e-04 - val_loss: 0.0162\n",
      "Epoch 37/100\n",
      "12/12 [==============================] - 2s 162ms/step - loss: 2.6439e-04 - val_loss: 0.0102\n",
      "Epoch 38/100\n",
      "12/12 [==============================] - 2s 162ms/step - loss: 2.1583e-04 - val_loss: 0.0100\n",
      "Epoch 39/100\n",
      "12/12 [==============================] - 2s 160ms/step - loss: 1.9286e-04 - val_loss: 0.0097\n",
      "Epoch 40/100\n",
      "12/12 [==============================] - 2s 164ms/step - loss: 1.7832e-04 - val_loss: 0.0133\n",
      "Epoch 41/100\n",
      "12/12 [==============================] - 2s 160ms/step - loss: 2.0430e-04 - val_loss: 0.0120\n",
      "Epoch 42/100\n",
      "12/12 [==============================] - 2s 160ms/step - loss: 1.8439e-04 - val_loss: 0.0103\n",
      "Epoch 43/100\n",
      "12/12 [==============================] - 2s 161ms/step - loss: 1.6159e-04 - val_loss: 0.0140\n",
      "Epoch 44/100\n",
      "12/12 [==============================] - 2s 165ms/step - loss: 1.7567e-04 - val_loss: 0.0125\n",
      "Epoch 45/100\n",
      "12/12 [==============================] - 2s 161ms/step - loss: 1.6744e-04 - val_loss: 0.0118\n",
      "Epoch 46/100\n",
      "12/12 [==============================] - 2s 159ms/step - loss: 1.6490e-04 - val_loss: 0.0092\n",
      "Epoch 47/100\n",
      "12/12 [==============================] - 2s 163ms/step - loss: 2.1903e-04 - val_loss: 0.0118\n",
      "Epoch 48/100\n",
      "12/12 [==============================] - 2s 163ms/step - loss: 2.1653e-04 - val_loss: 0.0118\n",
      "Epoch 49/100\n",
      "12/12 [==============================] - 2s 161ms/step - loss: 1.9443e-04 - val_loss: 0.0146\n",
      "Epoch 50/100\n",
      "12/12 [==============================] - 2s 159ms/step - loss: 1.9913e-04 - val_loss: 0.0109\n",
      "Epoch 51/100\n",
      "12/12 [==============================] - 2s 158ms/step - loss: 1.8225e-04 - val_loss: 0.0095\n",
      "Epoch 52/100\n",
      "12/12 [==============================] - 2s 162ms/step - loss: 1.8097e-04 - val_loss: 0.0119\n",
      "Epoch 53/100\n",
      "12/12 [==============================] - 2s 163ms/step - loss: 1.6130e-04 - val_loss: 0.0097\n",
      "Epoch 54/100\n",
      "12/12 [==============================] - 2s 164ms/step - loss: 1.7435e-04 - val_loss: 0.0117\n",
      "Epoch 55/100\n",
      "12/12 [==============================] - 2s 161ms/step - loss: 1.5971e-04 - val_loss: 0.0107\n",
      "Epoch 56/100\n",
      "12/12 [==============================] - 2s 168ms/step - loss: 1.5916e-04 - val_loss: 0.0105\n",
      "Epoch 57/100\n",
      "12/12 [==============================] - 2s 162ms/step - loss: 2.3399e-04 - val_loss: 0.0121\n",
      "Epoch 58/100\n",
      "12/12 [==============================] - 2s 165ms/step - loss: 1.9299e-04 - val_loss: 0.0100\n",
      "Epoch 59/100\n",
      "12/12 [==============================] - 2s 162ms/step - loss: 1.7751e-04 - val_loss: 0.0111\n",
      "Epoch 60/100\n",
      "12/12 [==============================] - 2s 159ms/step - loss: 1.7158e-04 - val_loss: 0.0115\n",
      "Epoch 61/100\n",
      "12/12 [==============================] - 2s 165ms/step - loss: 1.6244e-04 - val_loss: 0.0137\n",
      "Epoch 62/100\n",
      "12/12 [==============================] - 2s 165ms/step - loss: 1.7917e-04 - val_loss: 0.0117\n",
      "Epoch 63/100\n",
      "12/12 [==============================] - 2s 164ms/step - loss: 1.6422e-04 - val_loss: 0.0103\n",
      "Epoch 64/100\n",
      "12/12 [==============================] - 2s 164ms/step - loss: 1.5576e-04 - val_loss: 0.0095\n",
      "Epoch 65/100\n",
      "12/12 [==============================] - 2s 162ms/step - loss: 1.6953e-04 - val_loss: 0.0132\n",
      "Epoch 66/100\n",
      "12/12 [==============================] - 2s 160ms/step - loss: 1.6311e-04 - val_loss: 0.0088\n",
      "Epoch 67/100\n",
      "12/12 [==============================] - 2s 161ms/step - loss: 1.6159e-04 - val_loss: 0.0093\n",
      "Epoch 68/100\n",
      "12/12 [==============================] - 2s 162ms/step - loss: 1.5491e-04 - val_loss: 0.0105\n",
      "Epoch 69/100\n",
      "12/12 [==============================] - 2s 167ms/step - loss: 1.5075e-04 - val_loss: 0.0109\n",
      "Epoch 70/100\n",
      "12/12 [==============================] - 2s 162ms/step - loss: 1.5777e-04 - val_loss: 0.0119\n",
      "Epoch 71/100\n",
      "12/12 [==============================] - 2s 161ms/step - loss: 1.4541e-04 - val_loss: 0.0097\n",
      "Epoch 72/100\n",
      "12/12 [==============================] - 2s 164ms/step - loss: 1.4840e-04 - val_loss: 0.0106\n",
      "Epoch 73/100\n",
      "12/12 [==============================] - 2s 161ms/step - loss: 1.4965e-04 - val_loss: 0.0125\n",
      "Epoch 74/100\n",
      "12/12 [==============================] - 2s 161ms/step - loss: 1.4608e-04 - val_loss: 0.0083\n",
      "Epoch 75/100\n",
      "12/12 [==============================] - 2s 161ms/step - loss: 1.4327e-04 - val_loss: 0.0132\n",
      "Epoch 76/100\n",
      "12/12 [==============================] - 2s 163ms/step - loss: 1.5126e-04 - val_loss: 0.0075\n",
      "Epoch 77/100\n",
      "12/12 [==============================] - 2s 162ms/step - loss: 1.6992e-04 - val_loss: 0.0119\n",
      "Epoch 78/100\n",
      "12/12 [==============================] - 2s 163ms/step - loss: 1.4000e-04 - val_loss: 0.0084\n",
      "Epoch 79/100\n",
      "12/12 [==============================] - 2s 163ms/step - loss: 1.4592e-04 - val_loss: 0.0125\n",
      "Epoch 80/100\n",
      "12/12 [==============================] - 2s 162ms/step - loss: 1.4543e-04 - val_loss: 0.0080\n",
      "Epoch 81/100\n",
      "12/12 [==============================] - 2s 162ms/step - loss: 1.4589e-04 - val_loss: 0.0074\n",
      "Epoch 82/100\n",
      "12/12 [==============================] - 2s 164ms/step - loss: 1.8400e-04 - val_loss: 0.0124\n",
      "Epoch 83/100\n",
      "12/12 [==============================] - 2s 163ms/step - loss: 1.4719e-04 - val_loss: 0.0087\n",
      "Epoch 84/100\n",
      "12/12 [==============================] - 2s 160ms/step - loss: 1.7568e-04 - val_loss: 0.0109\n",
      "Epoch 85/100\n",
      "12/12 [==============================] - 2s 163ms/step - loss: 1.5467e-04 - val_loss: 0.0089\n",
      "Epoch 86/100\n",
      "12/12 [==============================] - 2s 164ms/step - loss: 1.4486e-04 - val_loss: 0.0088\n",
      "Epoch 87/100\n",
      "12/12 [==============================] - 2s 163ms/step - loss: 1.4931e-04 - val_loss: 0.0063\n",
      "Epoch 88/100\n",
      "12/12 [==============================] - 2s 161ms/step - loss: 1.3150e-04 - val_loss: 0.0125\n",
      "Epoch 89/100\n",
      "12/12 [==============================] - 2s 161ms/step - loss: 1.4187e-04 - val_loss: 0.0088\n",
      "Epoch 90/100\n",
      "12/12 [==============================] - 2s 161ms/step - loss: 1.3164e-04 - val_loss: 0.0084\n",
      "Epoch 91/100\n",
      "12/12 [==============================] - 2s 170ms/step - loss: 1.3506e-04 - val_loss: 0.0112\n",
      "Epoch 92/100\n",
      "12/12 [==============================] - 2s 162ms/step - loss: 1.2924e-04 - val_loss: 0.0095\n",
      "Epoch 93/100\n",
      "12/12 [==============================] - 2s 165ms/step - loss: 1.2459e-04 - val_loss: 0.0118\n",
      "Epoch 94/100\n",
      "12/12 [==============================] - 2s 160ms/step - loss: 1.2497e-04 - val_loss: 0.0087\n",
      "Epoch 95/100\n",
      "12/12 [==============================] - 2s 164ms/step - loss: 1.2470e-04 - val_loss: 0.0115\n",
      "Epoch 96/100\n",
      "12/12 [==============================] - 2s 157ms/step - loss: 1.3573e-04 - val_loss: 0.0120\n",
      "Epoch 97/100\n",
      "12/12 [==============================] - 2s 158ms/step - loss: 1.2521e-04 - val_loss: 0.0053\n",
      "Epoch 98/100\n",
      "12/12 [==============================] - 2s 164ms/step - loss: 1.8224e-04 - val_loss: 0.0157\n",
      "Epoch 99/100\n",
      "12/12 [==============================] - 2s 161ms/step - loss: 1.5127e-04 - val_loss: 0.0048\n",
      "Epoch 100/100\n",
      "12/12 [==============================] - 2s 163ms/step - loss: 1.5659e-04 - val_loss: 0.0079\n"
     ]
    },
    {
     "data": {
      "text/plain": [
       "<keras.callbacks.History at 0x28959e16c10>"
      ]
     },
     "execution_count": 242,
     "metadata": {},
     "output_type": "execute_result"
    }
   ],
   "source": [
    "model.fit(X_train,y_train,validation_data=(X_test,ytest),epochs=100,batch_size=64,verbose=1)"
   ]
  },
  {
   "cell_type": "code",
   "execution_count": 244,
   "metadata": {},
   "outputs": [],
   "source": [
    "import tensorflow as tf"
   ]
  },
  {
   "cell_type": "code",
   "execution_count": 246,
   "metadata": {},
   "outputs": [
    {
     "data": {
      "text/plain": [
       "'2.7.0'"
      ]
     },
     "execution_count": 246,
     "metadata": {},
     "output_type": "execute_result"
    }
   ],
   "source": [
    "tf.__version__"
   ]
  },
  {
   "cell_type": "code",
   "execution_count": 248,
   "metadata": {},
   "outputs": [],
   "source": [
    "### Lets Do the prediction and check performance metrics\n",
    "train_predict=model.predict(X_train)\n",
    "test_predict=model.predict(X_test)"
   ]
  },
  {
   "cell_type": "code",
   "execution_count": 249,
   "metadata": {},
   "outputs": [],
   "source": [
    "##Transformback to original form\n",
    "train_predict=scaler.inverse_transform(train_predict)\n",
    "test_predict=scaler.inverse_transform(test_predict)"
   ]
  },
  {
   "cell_type": "code",
   "execution_count": 250,
   "metadata": {},
   "outputs": [
    {
     "data": {
      "text/plain": [
       "343.12993134394696"
      ]
     },
     "execution_count": 250,
     "metadata": {},
     "output_type": "execute_result"
    }
   ],
   "source": [
    "### Calculate RMSE performance metrics\n",
    "import math\n",
    "from sklearn.metrics import mean_squared_error\n",
    "math.sqrt(mean_squared_error(y_train,train_predict))"
   ]
  },
  {
   "cell_type": "code",
   "execution_count": 251,
   "metadata": {},
   "outputs": [
    {
     "data": {
      "text/plain": [
       "680.0205149754157"
      ]
     },
     "execution_count": 251,
     "metadata": {},
     "output_type": "execute_result"
    }
   ],
   "source": [
    "### Test Data RMSE\n",
    "math.sqrt(mean_squared_error(ytest,test_predict))"
   ]
  },
  {
   "cell_type": "code",
   "execution_count": 252,
   "metadata": {},
   "outputs": [
    {
     "data": {
      "image/png": "[encoded data removed]",
      "text/plain": [
       "<Figure size 432x288 with 1 Axes>"
      ]
     },
     "metadata": {
      "needs_background": "light"
     },
     "output_type": "display_data"
    }
   ],
   "source": [
    "### Plotting \n",
    "# shift train predictions for plotting\n",
    "look_back=100\n",
    "trainPredictPlot = numpy.empty_like(df1)\n",
    "trainPredictPlot[:, :] = np.nan\n",
    "trainPredictPlot[look_back:len(train_predict)+look_back, :] = train_predict\n",
    "# shift test predictions for plotting\n",
    "testPredictPlot = numpy.empty_like(df1)\n",
    "testPredictPlot[:, :] = numpy.nan\n",
    "testPredictPlot[len(train_predict)+(look_back*2)+1:len(df1)-1, :] = test_predict\n",
    "# plot baseline and predictions\n",
    "plt.plot(scaler.inverse_transform(df1))\n",
    "plt.plot(trainPredictPlot)\n",
    "plt.plot(testPredictPlot)\n",
    "plt.show()"
   ]
  },
  {
   "cell_type": "code",
   "execution_count": 253,
   "metadata": {},
   "outputs": [
    {
     "data": {
      "text/plain": [
       "440"
      ]
     },
     "execution_count": 253,
     "metadata": {},
     "output_type": "execute_result"
    }
   ],
   "source": [
    "len(test_data)"
   ]
  },
  {
   "cell_type": "code",
   "execution_count": 254,
   "metadata": {},
   "outputs": [
    {
     "data": {
      "text/plain": [
       "(1, 99)"
      ]
     },
     "execution_count": 254,
     "metadata": {},
     "output_type": "execute_result"
    }
   ],
   "source": [
    "x_input=test_data[341:].reshape(1,-1)\n",
    "x_input.shape\n"
   ]
  },
  {
   "cell_type": "code",
   "execution_count": null,
   "metadata": {},
   "outputs": [],
   "source": []
  },
  {
   "cell_type": "code",
   "execution_count": null,
   "metadata": {},
   "outputs": [],
   "source": []
  },
  {
   "cell_type": "code",
   "execution_count": 255,
   "metadata": {},
   "outputs": [],
   "source": [
    "temp_input=list(x_input)\n",
    "temp_input=temp_input[0].tolist()"
   ]
  },
  {
   "cell_type": "code",
   "execution_count": 256,
   "metadata": {},
   "outputs": [
    {
     "data": {
      "text/plain": [
       "[0.22614551068560712,\n",
       " 0.22721358591694257,\n",
       " 0.241957878996786,\n",
       " 0.24673994310071945,\n",
       " 0.25764887512258583,\n",
       " 0.257682859334492,\n",
       " 0.25825573604948093,\n",
       " 0.2600568992805056,\n",
       " 0.25251725912476086,\n",
       " 0.2596345240753866,\n",
       " 0.25780423151987103,\n",
       " 0.2567507209507811,\n",
       " 0.2637563234908582,\n",
       " 0.26129004068395645,\n",
       " 0.24623988969695787,\n",
       " 0.23630679004553884,\n",
       " 0.24760896794803322,\n",
       " 0.2400741826797036,\n",
       " 0.24337065123459783,\n",
       " 0.2560127780636766,\n",
       " 0.2570759984075969,\n",
       " 0.25839167289710546,\n",
       " 0.25351736593228397,\n",
       " 0.25874122479099704,\n",
       " 0.26796065599238744,\n",
       " 0.27029585683907986,\n",
       " 0.26950451019040866,\n",
       " 0.26867917932983126,\n",
       " 0.2692520560448203,\n",
       " 0.2786462631931565,\n",
       " 0.2791074774975968,\n",
       " 0.2795881113516977,\n",
       " 0.27056287564691367,\n",
       " 0.27383021487731696,\n",
       " 0.2745535931021759,\n",
       " 0.28005903543096833,\n",
       " 0.28062220237112695,\n",
       " 0.28183592422491716,\n",
       " 0.2676013943236656,\n",
       " 0.2720727456330287,\n",
       " 0.2781704842264708,\n",
       " 0.27899581508704807,\n",
       " 0.2890697064735068,\n",
       " 0.2973084504170348,\n",
       " 0.2906087057841128,\n",
       " 0.2924292885647981,\n",
       " 0.28959888920175936,\n",
       " 0.28947266212896516,\n",
       " 0.29253609608793163,\n",
       " 0.2920797366709066,\n",
       " 0.2931283923525813,\n",
       " 0.29840080008544595,\n",
       " 0.2944586315043354,\n",
       " 0.29759003388711414,\n",
       " 0.30428006874520575,\n",
       " 0.306882288399732,\n",
       " 0.31039722688830845,\n",
       " 0.32239365369117085,\n",
       " 0.3355406888114264,\n",
       " 0.33270543456097246,\n",
       " 0.33344823233549203,\n",
       " 0.34713901484624565,\n",
       " 0.35475147831321785,\n",
       " 0.41067007156104035,\n",
       " 0.407548378953092,\n",
       " 0.41698142520074943,\n",
       " 0.4360028740933497,\n",
       " 0.4539465379797841,\n",
       " 0.4998689180397905,\n",
       " 0.4821048849877171,\n",
       " 0.5024274437075803,\n",
       " 0.5102195380089135,\n",
       " 0.5064230160502576,\n",
       " 0.4777063569895813,\n",
       " 0.41000980687257854,\n",
       " 0.43158978143296856,\n",
       " 0.4294342114206371,\n",
       " 0.4148258551884182,\n",
       " 0.40510151569585096,\n",
       " 0.4251716202701259,\n",
       " 0.44181417432929726,\n",
       " 0.4453922263542708,\n",
       " 0.46514190835914504,\n",
       " 0.47475944032857864,\n",
       " 0.4515336589344492,\n",
       " 0.45491751546281634,\n",
       " 0.4383720591519482,\n",
       " 0.4651079241472389,\n",
       " 0.4688801716688189,\n",
       " 0.4447222518909786,\n",
       " 0.43967316897921127,\n",
       " 0.40586858790744634,\n",
       " 0.4029750750080105,\n",
       " 0.42372486382040797,\n",
       " 0.43208012506189974,\n",
       " 0.40044567866471165,\n",
       " 0.40686869471496945,\n",
       " 0.3822932546194253,\n",
       " 0.3784578935614482]"
      ]
     },
     "execution_count": 256,
     "metadata": {},
     "output_type": "execute_result"
    }
   ],
   "source": [
    "temp_input"
   ]
  },
  {
   "cell_type": "code",
   "execution_count": 257,
   "metadata": {},
   "outputs": [
    {
     "data": {
      "text/plain": [
       "'\\n#NOT REQUIRED ( EXTRA PART, NEXT 30 DAYS)\\n# demonstrate prediction for next 10 days\\nfrom numpy import array\\n\\nlst_output=[]\\nn_steps=100\\ni=0\\nwhile(i<30):\\n    \\n    if(len(temp_input)>100):\\n        #print(temp_input)\\n        x_input=np.array(temp_input[1:])\\n        print(\"{} day input {}\".format(i,x_input))\\n        x_input=x_input.reshape(1,-1)\\n        x_input = x_input.reshape((1, n_steps, 1))\\n        #print(x_input)\\n        yhat = model.predict(x_input, verbose=0)\\n        print(\"{} day output {}\".format(i,yhat))\\n        temp_input.extend(yhat[0].tolist())\\n        temp_input=temp_input[1:]\\n        #print(temp_input)\\n        lst_output.extend(yhat.tolist())\\n        i=i+1\\n    else:\\n        x_input = x_input.reshape((1, n_steps,1))\\n        yhat = model.predict(x_input, verbose=0)\\n        print(yhat[0])\\n        temp_input.extend(yhat[0].tolist())\\n        print(len(temp_input))\\n        lst_output.extend(yhat.tolist())\\n        i=i+1\\n    \\n\\nprint(lst_output)'"
      ]
     },
     "execution_count": 257,
     "metadata": {},
     "output_type": "execute_result"
    }
   ],
   "source": [
    "'''\n",
    "#NOT REQUIRED ( EXTRA PART, NEXT 30 DAYS)\n",
    "# demonstrate prediction for next 10 days\n",
    "from numpy import array\n",
    "\n",
    "lst_output=[]\n",
    "n_steps=100\n",
    "i=0\n",
    "while(i<30):\n",
    "    \n",
    "    if(len(temp_input)>100):\n",
    "        #print(temp_input)\n",
    "        x_input=np.array(temp_input[1:])\n",
    "        print(\"{} day input {}\".format(i,x_input))\n",
    "        x_input=x_input.reshape(1,-1)\n",
    "        x_input = x_input.reshape((1, n_steps, 1))\n",
    "        #print(x_input)\n",
    "        yhat = model.predict(x_input, verbose=0)\n",
    "        print(\"{} day output {}\".format(i,yhat))\n",
    "        temp_input.extend(yhat[0].tolist())\n",
    "        temp_input=temp_input[1:]\n",
    "        #print(temp_input)\n",
    "        lst_output.extend(yhat.tolist())\n",
    "        i=i+1\n",
    "    else:\n",
    "        x_input = x_input.reshape((1, n_steps,1))\n",
    "        yhat = model.predict(x_input, verbose=0)\n",
    "        print(yhat[0])\n",
    "        temp_input.extend(yhat[0].tolist())\n",
    "        print(len(temp_input))\n",
    "        lst_output.extend(yhat.tolist())\n",
    "        i=i+1\n",
    "    \n",
    "\n",
    "print(lst_output)'''"
   ]
  },
  {
   "cell_type": "code",
   "execution_count": 258,
   "metadata": {},
   "outputs": [],
   "source": [
    "# day_new=np.arange(1,101)\n",
    "# day_pred=np.arange(101,131)"
   ]
  },
  {
   "cell_type": "code",
   "execution_count": 259,
   "metadata": {},
   "outputs": [],
   "source": [
    "# import matplotlib.pyplot as plt"
   ]
  },
  {
   "cell_type": "code",
   "execution_count": 260,
   "metadata": {},
   "outputs": [],
   "source": [
    "#len(df1)"
   ]
  },
  {
   "cell_type": "code",
   "execution_count": 261,
   "metadata": {},
   "outputs": [],
   "source": [
    "# df3=df1.tolist()\n",
    "# df3.extend(lst_output)"
   ]
  },
  {
   "cell_type": "code",
   "execution_count": 262,
   "metadata": {},
   "outputs": [],
   "source": [
    "# plt.plot(day_new,scaler.inverse_transform(df1[1158:]))\n",
    "# plt.plot(day_pred,scaler.inverse_transform(lst_output))"
   ]
  },
  {
   "cell_type": "code",
   "execution_count": 263,
   "metadata": {},
   "outputs": [],
   "source": [
    "# df3=df1.tolist()\n",
    "# df3.extend(lst_output)\n",
    "# plt.plot(df3[1200:])"
   ]
  },
  {
   "cell_type": "code",
   "execution_count": 264,
   "metadata": {},
   "outputs": [],
   "source": [
    "# df3=scaler.inverse_transform(df3).tolist()"
   ]
  },
  {
   "cell_type": "code",
   "execution_count": 265,
   "metadata": {},
   "outputs": [],
   "source": [
    "# plt.plot(df3)"
   ]
  },
  {
   "cell_type": "code",
   "execution_count": null,
   "metadata": {},
   "outputs": [],
   "source": []
  },
  {
   "cell_type": "code",
   "execution_count": null,
   "metadata": {},
   "outputs": [],
   "source": []
  },
  {
   "cell_type": "code",
   "execution_count": null,
   "metadata": {},
   "outputs": [],
   "source": []
  },
  {
   "cell_type": "code",
   "execution_count": null,
   "metadata": {},
   "outputs": [],
   "source": []
  },
  {
   "cell_type": "code",
   "execution_count": null,
   "metadata": {},
   "outputs": [],
   "source": []
  },
  {
   "cell_type": "code",
   "execution_count": null,
   "metadata": {},
   "outputs": [],
   "source": []
  },
  {
   "cell_type": "code",
   "execution_count": null,
   "metadata": {},
   "outputs": [],
   "source": []
  },
  {
   "cell_type": "code",
   "execution_count": null,
   "metadata": {},
   "outputs": [],
   "source": []
  },
  {
   "cell_type": "code",
   "execution_count": null,
   "metadata": {},
   "outputs": [],
   "source": []
  },
  {
   "cell_type": "code",
   "execution_count": null,
   "metadata": {},
   "outputs": [],
   "source": []
  },
  {
   "cell_type": "code",
   "execution_count": null,
   "metadata": {},
   "outputs": [],
   "source": []
  },
  {
   "cell_type": "code",
   "execution_count": null,
   "metadata": {},
   "outputs": [],
   "source": []
  },
  {
   "cell_type": "code",
   "execution_count": null,
   "metadata": {},
   "outputs": [],
   "source": []
  },
  {
   "cell_type": "code",
   "execution_count": null,
   "metadata": {},
   "outputs": [],
   "source": []
  },
  {
   "cell_type": "code",
   "execution_count": null,
   "metadata": {},
   "outputs": [],
   "source": []
  },
  {
   "cell_type": "code",
   "execution_count": null,
   "metadata": {},
   "outputs": [],
   "source": []
  },
  {
   "cell_type": "code",
   "execution_count": null,
   "metadata": {},
   "outputs": [],
   "source": []
  },
  {
   "cell_type": "code",
   "execution_count": null,
   "metadata": {},
   "outputs": [],
   "source": []
  },
  {
   "cell_type": "code",
   "execution_count": null,
   "metadata": {},
   "outputs": [],
   "source": []
  },
  {
   "cell_type": "code",
   "execution_count": null,
   "metadata": {},
   "outputs": [],
   "source": []
  }
 ],
 "metadata": {
  "kernelspec": {
   "display_name": "Python 3 (ipykernel)",
   "language": "python",
   "name": "python3"
  },
  "language_info": {
   "codemirror_mode": {
    "name": "ipython",
    "version": 3
   },
   "file_extension": ".py",
   "mimetype": "text/x-python",
   "name": "python",
   "nbconvert_exporter": "python",
   "pygments_lexer": "ipython3",
   "version": "3.9.7"
  }
 },
 "nbformat": 4,
 "nbformat_minor": 4
}
